{
  "nbformat": 4,
  "nbformat_minor": 0,
  "metadata": {
    "colab": {
      "provenance": []
    },
    "kernelspec": {
      "name": "python3",
      "display_name": "Python 3"
    },
    "language_info": {
      "name": "python"
    }
  },
  "cells": [
    {
      "cell_type": "markdown",
      "source": [
        "**Libraries**"
      ],
      "metadata": {
        "id": "CbOlenzhxBRx"
      }
    },
    {
      "cell_type": "code",
      "execution_count": 16,
      "metadata": {
        "id": "9JgL1Sn1w7uz"
      },
      "outputs": [],
      "source": [
        "import numpy as np\n",
        "import matplotlib.pyplot as plt"
      ]
    },
    {
      "cell_type": "markdown",
      "source": [
        "**Generate Data**"
      ],
      "metadata": {
        "id": "ErTUynu9xGXa"
      }
    },
    {
      "cell_type": "code",
      "source": [
        "# Generate training data\n",
        "np.random.seed(42)\n",
        "X = np.random.uniform(-3, 3, (1000, 1)) # 1000 input data in the range (-3, 3)\n",
        "y = X ** 2\n",
        "\n",
        "# Generate test data\n",
        "X_test = np.random.uniform(-3, 3, (100, 1))\n",
        "y_test = X_test ** 2"
      ],
      "metadata": {
        "id": "iRpfw2o5xKaX"
      },
      "execution_count": 24,
      "outputs": []
    },
    {
      "cell_type": "markdown",
      "source": [
        "**The architecture of the MLP**"
      ],
      "metadata": {
        "id": "gfZ5rfH6xK1V"
      }
    },
    {
      "cell_type": "code",
      "source": [
        "input_size = 1\n",
        "hidden_size = 10\n",
        "output_size = 1"
      ],
      "metadata": {
        "id": "1t68y6U3xO4Q"
      },
      "execution_count": 25,
      "outputs": []
    },
    {
      "cell_type": "markdown",
      "source": [
        "**Initialization**"
      ],
      "metadata": {
        "id": "Lalxs8TPxPS0"
      }
    },
    {
      "cell_type": "code",
      "source": [
        "weights_input_hidden = np.random.rand(input_size, hidden_size)\n",
        "bias_hidden = np.zeros((1, hidden_size))\n",
        "weights_hidden_output = np.random.rand(hidden_size, output_size)\n",
        "bias_output = np.zeros((1, output_size))"
      ],
      "metadata": {
        "id": "f7AIYaouxRe0"
      },
      "execution_count": 26,
      "outputs": []
    },
    {
      "cell_type": "markdown",
      "source": [
        "**Training**"
      ],
      "metadata": {
        "id": "revprxHDxR2l"
      }
    },
    {
      "cell_type": "code",
      "source": [
        "# Set hyperparameters\n",
        "learning_rate = 0.01\n",
        "epochs = 2000\n",
        "\n",
        "# Training\n",
        "for epoch in range(epochs):\n",
        "  hidden_layer_input = np.dot(X, weights_input_hidden) + bias_hidden # Calculate input to hidden layer\n",
        "  hidden_layer_output = np.maximum(0, hidden_layer_input) # RelU activation function\n",
        "  output_layer_input = np.dot(hidden_layer_output, weights_hidden_output) + bias_output # Calculate input to output layer\n",
        "  predicted_y = output_layer_input\n",
        "\n",
        "  # Calculate loss(Mean Squared Error loss)\n",
        "  loss = np.mean((predicted_y - y) **2)\n",
        "\n",
        "  #Backpropagation\n",
        "  grad_output = 2 * (predicted_y - y) / X.shape[0]\n",
        "\n",
        "  grad_weights_hidden_output = np.dot(hidden_layer_output.T, grad_output) # Gradient of loss weights in hidden-output layer\n",
        "  grad_bias_output = np.sum(grad_output, axis=0, keepdims=True) # Gradient of loss bias in output layer\n",
        "\n",
        "  grad_hidden_output = np.dot(grad_output, weights_hidden_output.T) # Gradient of loss hidden layer output\n",
        "\n",
        "  grad_hidden_input = grad_hidden_output * (hidden_layer_input > 0) # Gradient of loss hidden layer input\n",
        "\n",
        "  grad_weights_input_hidden = np.dot(X.T, grad_hidden_input) # Gradient of loss weights in input-hidden layer\n",
        "  grad_bias_hidden = np.sum(grad_hidden_input, axis=0, keepdims=True) # Gradient of loss bias in hidden layer\n",
        "\n",
        "  # Update weights and biases using gradients and learning rate\n",
        "  weights_input_hidden -= learning_rate * grad_weights_input_hidden # Update weights in input-hidden layer\n",
        "  bias_hidden -= learning_rate * grad_bias_hidden # Update bias in hidden layer\n",
        "  weights_hidden_output -= learning_rate * grad_weights_hidden_output # Update weights in hidden-output layer\n",
        "  bias_output -= learning_rate * grad_bias_output # Update bias in output layer\n",
        "\n",
        "  # Print loss every 100 epochs\n",
        "  if epoch % 100 == 0:\n",
        "    print(f'Epoch {epoch}, Loss: {loss}')"
      ],
      "metadata": {
        "colab": {
          "base_uri": "https://localhost:8080/"
        },
        "id": "p7pqCglWxUIp",
        "outputId": "843685a7-28be-4afc-e8c7-aa6a45b9bffd"
      },
      "execution_count": 27,
      "outputs": [
        {
          "output_type": "stream",
          "name": "stdout",
          "text": [
            "Epoch 0, Loss: 9.35762194335822\n",
            "Epoch 100, Loss: 5.819889076558568\n",
            "Epoch 200, Loss: 5.250473860684926\n",
            "Epoch 300, Loss: 4.974190050143854\n",
            "Epoch 400, Loss: 4.632254303234264\n",
            "Epoch 500, Loss: 3.9939075739652536\n",
            "Epoch 600, Loss: 2.639179110443445\n",
            "Epoch 700, Loss: 1.8532420244163126\n",
            "Epoch 800, Loss: 1.3745514618692283\n",
            "Epoch 900, Loss: 1.0586568944137997\n",
            "Epoch 1000, Loss: 0.8372965578658783\n",
            "Epoch 1100, Loss: 0.6720655724972386\n",
            "Epoch 1200, Loss: 0.5428448818258601\n",
            "Epoch 1300, Loss: 0.4410161512297359\n",
            "Epoch 1400, Loss: 0.360286983167081\n",
            "Epoch 1500, Loss: 0.29816952715591055\n",
            "Epoch 1600, Loss: 0.250419460481235\n",
            "Epoch 1700, Loss: 0.21334667465335116\n",
            "Epoch 1800, Loss: 0.18398772464483068\n",
            "Epoch 1900, Loss: 0.16003137940874895\n"
          ]
        }
      ]
    },
    {
      "cell_type": "markdown",
      "source": [
        "**Testing**"
      ],
      "metadata": {
        "id": "7TaVIszVxUeA"
      }
    },
    {
      "cell_type": "code",
      "source": [
        "hidden_layer_input_test = np.dot(X_test, weights_input_hidden) + bias_hidden # Calculate input to hidden layer for test data\n",
        "hidden_layer_output_test = np.maximum(0, hidden_layer_input_test) # Apply RelU activation function for test data\n",
        "output_layer_input_test = np.dot(hidden_layer_output_test, weights_hidden_output) + bias_output # Calculate input to output layer for test data\n",
        "predicted_y_test = output_layer_input_test\n",
        "\n",
        "# Comput loss on the test data(Mean Squared Error loss for test data)\n",
        "test_loss = np.mean((predicted_y_test - y_test) ** 2)\n",
        "\n",
        "print(f'Test Loss: {test_loss}')\n"
      ],
      "metadata": {
        "colab": {
          "base_uri": "https://localhost:8080/"
        },
        "id": "etfVCQjNxXhX",
        "outputId": "60528f64-eaee-4f16-9f1d-751224f01565"
      },
      "execution_count": 31,
      "outputs": [
        {
          "output_type": "stream",
          "name": "stdout",
          "text": [
            "Test Loss: 0.1487251580649096\n"
          ]
        }
      ]
    },
    {
      "cell_type": "markdown",
      "source": [
        "**Ploting the predicted and the real values**"
      ],
      "metadata": {
        "id": "MSMU4kwPxX7r"
      }
    },
    {
      "cell_type": "code",
      "source": [
        "plt.scatter(X_test, y_test, label='Real (y = x^2)')\n",
        "plt.scatter(X_test, predicted_y_test, label='Predicted (y = x^2)', marker='x')\n",
        "plt.title('Real vs Predicted Values')\n",
        "plt.xlabel('x')\n",
        "plt.ylabel('y')\n",
        "plt.legend()\n",
        "plt.show()"
      ],
      "metadata": {
        "colab": {
          "base_uri": "https://localhost:8080/",
          "height": 472
        },
        "id": "OXRen5guxcd9",
        "outputId": "273f7ab2-2e23-4579-ac23-ad306e29348f"
      },
      "execution_count": 32,
      "outputs": [
        {
          "output_type": "display_data",
          "data": {
            "text/plain": [
              "<Figure size 640x480 with 1 Axes>"
            ],
            "image/png": "[encoded data removed]"
          },
          "metadata": {}
        }
      ]
    },
    {
      "cell_type": "code",
      "source": [],
      "metadata": {
        "id": "qGOM2GVy5VFY"
      },
      "execution_count": 22,
      "outputs": []
    }
  ]
}