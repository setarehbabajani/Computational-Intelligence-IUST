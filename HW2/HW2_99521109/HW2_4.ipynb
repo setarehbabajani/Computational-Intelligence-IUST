{
  "cells": [
    {
      "cell_type": "markdown",
      "metadata": {
        "id": "mqg4KSj_8Nz1"
      },
      "source": [
        "# In this notebook, we run an MLP model on dataset hoda and examine the results in terms of underfitting, fitting and overfitting."
      ]
    },
    {
      "cell_type": "markdown",
      "metadata": {
        "id": "IVk_5eoO76sj"
      },
      "source": [
        "## Download dataset"
      ]
    },
    {
      "cell_type": "code",
      "execution_count": 1,
      "metadata": {
        "colab": {
          "base_uri": "https://localhost:8080/"
        },
        "id": "TjoQGt01Ujx1",
        "outputId": "f5522fdf-b1e1-419c-8eda-06da44760d25"
      },
      "outputs": [
        {
          "output_type": "stream",
          "name": "stdout",
          "text": [
            "Downloading...\n",
            "From: https://drive.google.com/uc?id=1QJrQsEYOfPBn1LoIeYMZ2HFBRC0AY-6F\n",
            "To: /content/dataset.py\n",
            "100% 909/909 [00:00<00:00, 4.25MB/s]\n",
            "Downloading...\n",
            "From: https://drive.google.com/uc?id=1zStcaVl_34RrYIfVObuM4xzB6s8xwvBi\n",
            "To: /content/Data_hoda_full.mat\n",
            "100% 3.99M/3.99M [00:00<00:00, 26.3MB/s]\n"
          ]
        }
      ],
      "source": [
        "!gdown --fuzzy https://drive.google.com/file/d/1QJrQsEYOfPBn1LoIeYMZ2HFBRC0AY-6F/view?usp=sharing\n",
        "!gdown --fuzzy https://drive.google.com/file/d/1zStcaVl_34RrYIfVObuM4xzB6s8xwvBi/view?usp=sharing"
      ]
    },
    {
      "cell_type": "markdown",
      "metadata": {
        "id": "ruebTHNSBqRD"
      },
      "source": [
        "## Importing libraries"
      ]
    },
    {
      "cell_type": "code",
      "execution_count": 2,
      "metadata": {
        "id": "WhoXKRptiRDe"
      },
      "outputs": [],
      "source": [
        "import keras\n",
        "import numpy as np\n",
        "import matplotlib.pyplot as plt\n",
        "\n",
        "from keras.models import Sequential\n",
        "from keras.layers import Dense,  Activation\n",
        "from dataset import load_hoda"
      ]
    },
    {
      "cell_type": "markdown",
      "metadata": {
        "id": "ku75DKlg_f9y"
      },
      "source": [
        "# Load dataset"
      ]
    },
    {
      "cell_type": "code",
      "execution_count": 3,
      "metadata": {
        "id": "4D7VhBCKiVWl"
      },
      "outputs": [],
      "source": [
        "x_train_original, y_train_original, x_test_original, y_test_original = load_hoda()"
      ]
    },
    {
      "cell_type": "markdown",
      "metadata": {
        "id": "Wruhn4AmB5zC"
      },
      "source": [
        "### Converting x_train and x_test to ndarray array format and converting y_train and y_test to one-hot-encoding:\n",
        "####First, we have defined a simple function that prints the dimensions, data type and information of the loaded dataset. We will print this information before and after data preprocessing to notice the changes!"
      ]
    },
    {
      "cell_type": "code",
      "execution_count": 4,
      "metadata": {
        "id": "nbSZTm93iVb9"
      },
      "outputs": [],
      "source": [
        "# Preprocess input data for Keras.\n",
        "x_train = np.array(x_train_original) # Convert the training data to a NumPy array\n",
        "y_train = keras.utils.to_categorical(y_train_original, num_classes=10) # Convert the training labels to one-hot encoding format\n",
        "x_test = np.array(x_test_original) # Convert the testing data to a NumPy array\n",
        "y_test = keras.utils.to_categorical(y_test_original, num_classes=10) # Convert the testing labels to one-hot encoding format"
      ]
    },
    {
      "cell_type": "code",
      "execution_count": 8,
      "metadata": {
        "id": "u5Gvz63iiVZV"
      },
      "outputs": [],
      "source": [
        "def print_data_info(x_train, y_train, x_test, y_test):\n",
        "    #Check data Type\n",
        "    print (\"\\ttype(x_train): {}\".format(type(x_train)))\n",
        "    print (\"\\ttype(y_train): {}\".format(type(y_train)))\n",
        "\n",
        "    #check data Shape\n",
        "    print (\"\\tx_train.shape: {}\".format(np.shape(x_train)))\n",
        "    print (\"\\ty_train.shape: {}\".format(np.shape(y_train)))\n",
        "    print (\"\\tx_test.shape: {}\".format(np.shape(x_test)))\n",
        "    print (\"\\ty_test.shape: {}\".format(np.shape(y_test)))\n",
        "\n",
        "    #sample data\n",
        "    print (\"\\ty_train[0]: {}\".format(y_train[0]))"
      ]
    },
    {
      "cell_type": "code",
      "execution_count": 6,
      "metadata": {
        "colab": {
          "base_uri": "https://localhost:8080/"
        },
        "id": "0C5eJsmeiVe2",
        "outputId": "bf30fe2b-e981-415a-f558-74fcb9ce7498"
      },
      "outputs": [
        {
          "output_type": "stream",
          "name": "stdout",
          "text": [
            "Before Preprocessing:\n",
            "\ttype(x_train): <class 'numpy.ndarray'>\n",
            "\ttype(y_train): <class 'numpy.ndarray'>\n",
            "\tx_train.shape: (1000, 25)\n",
            "\ty_train.shape: (1000,)\n",
            "\tx_test.shape: (200, 25)\n",
            "\ty_test.shape: (200,)\n",
            "\ty_train[0]: 6\n",
            "After Preprocessing:\n",
            "\ttype(x_train): <class 'numpy.ndarray'>\n",
            "\ttype(y_train): <class 'numpy.ndarray'>\n",
            "\tx_train.shape: (1000, 25)\n",
            "\ty_train.shape: (1000, 10)\n",
            "\tx_test.shape: (200, 25)\n",
            "\ty_test.shape: (200, 10)\n",
            "\ty_train[0]: [0. 0. 0. 0. 0. 0. 1. 0. 0. 0.]\n"
          ]
        }
      ],
      "source": [
        "print(\"Before Preprocessing:\")\n",
        "print_data_info(x_train_original, y_train_original, x_test_original, y_test_original)\n",
        "print(\"After Preprocessing:\")\n",
        "print_data_info(x_train, y_train, x_test, y_test)"
      ]
    },
    {
      "cell_type": "code",
      "execution_count": 15,
      "metadata": {
        "id": "ignnQ8cqidv_"
      },
      "outputs": [],
      "source": [
        "x_train = x_train.astype('float32')\n",
        "x_test = x_test.astype('float32')\n",
        "x_train /= 255 # Normalize the training data by dividing by 255\n",
        "x_test /= 255 # Normalize the testing data by dividing by 255"
      ]
    },
    {
      "cell_type": "code",
      "execution_count": 9,
      "metadata": {
        "id": "cEQisVlqidyt"
      },
      "outputs": [],
      "source": [
        "# In this Create the model, input dim=25 and output dim = 10\n",
        "\n",
        "##################################\n",
        "# you code here\n",
        "model = Sequential()\n",
        "model.add(Dense(64, input_dim=25, activation='relu')) # input layer\n",
        "model.add(Dense(32, activation='relu')) # hidden layer\n",
        "model.add(Dense(10, activation='softmax')) # output layer\n",
        "##################################\n",
        "# model = ..."
      ]
    },
    {
      "cell_type": "code",
      "execution_count": 10,
      "metadata": {
        "id": "gk4rIwjbid3W",
        "colab": {
          "base_uri": "https://localhost:8080/"
        },
        "outputId": "f7247f75-e22b-4133-d614-15a97c49c1a9"
      },
      "outputs": [
        {
          "output_type": "stream",
          "name": "stdout",
          "text": [
            "Model: \"sequential\"\n",
            "_________________________________________________________________\n",
            " Layer (type)                Output Shape              Param #   \n",
            "=================================================================\n",
            " dense (Dense)               (None, 64)                1664      \n",
            "                                                                 \n",
            " dense_1 (Dense)             (None, 32)                2080      \n",
            "                                                                 \n",
            " dense_2 (Dense)             (None, 10)                330       \n",
            "                                                                 \n",
            "=================================================================\n",
            "Total params: 4074 (15.91 KB)\n",
            "Trainable params: 4074 (15.91 KB)\n",
            "Non-trainable params: 0 (0.00 Byte)\n",
            "_________________________________________________________________\n"
          ]
        }
      ],
      "source": [
        "model.summary()"
      ]
    },
    {
      "cell_type": "markdown",
      "metadata": {
        "id": "XVBSerPdCxnL"
      },
      "source": [
        "## Compile model"
      ]
    },
    {
      "cell_type": "code",
      "execution_count": 11,
      "metadata": {
        "id": "ZJVfanv2id52"
      },
      "outputs": [],
      "source": [
        "# In this cell compile mode, set loss function and optimizer and get metrics accuracy\n",
        "\n",
        "##################################\n",
        "# you code here\n",
        "model.compile(loss='categorical_crossentropy', optimizer='adam', metrics=['accuracy'])\n",
        "##################################"
      ]
    },
    {
      "cell_type": "markdown",
      "metadata": {
        "id": "Uz92ZcWOJFFU"
      },
      "source": [
        "## Fit model"
      ]
    },
    {
      "cell_type": "code",
      "execution_count": 12,
      "metadata": {
        "id": "ZaKtROcxinbV",
        "colab": {
          "base_uri": "https://localhost:8080/"
        },
        "outputId": "2f0ea84d-bcf8-4a5d-8368-bcf311ad2e66"
      },
      "outputs": [
        {
          "output_type": "stream",
          "name": "stdout",
          "text": [
            "Epoch 1/100\n",
            "16/16 [==============================] - 1s 24ms/step - loss: 2.2997 - accuracy: 0.1890 - val_loss: 2.2030 - val_accuracy: 0.2950\n",
            "Epoch 2/100\n",
            "16/16 [==============================] - 0s 7ms/step - loss: 2.1323 - accuracy: 0.3750 - val_loss: 2.0649 - val_accuracy: 0.4400\n",
            "Epoch 3/100\n",
            "16/16 [==============================] - 0s 6ms/step - loss: 1.9590 - accuracy: 0.5460 - val_loss: 1.8728 - val_accuracy: 0.5750\n",
            "Epoch 4/100\n",
            "16/16 [==============================] - 0s 6ms/step - loss: 1.7254 - accuracy: 0.6840 - val_loss: 1.6220 - val_accuracy: 0.6650\n",
            "Epoch 5/100\n",
            "16/16 [==============================] - 0s 6ms/step - loss: 1.4352 - accuracy: 0.7660 - val_loss: 1.3324 - val_accuracy: 0.7700\n",
            "Epoch 6/100\n",
            "16/16 [==============================] - 0s 6ms/step - loss: 1.1486 - accuracy: 0.8180 - val_loss: 1.0620 - val_accuracy: 0.8250\n",
            "Epoch 7/100\n",
            "16/16 [==============================] - 0s 7ms/step - loss: 0.9058 - accuracy: 0.8270 - val_loss: 0.8562 - val_accuracy: 0.8300\n",
            "Epoch 8/100\n",
            "16/16 [==============================] - 0s 6ms/step - loss: 0.7392 - accuracy: 0.8400 - val_loss: 0.7123 - val_accuracy: 0.8450\n",
            "Epoch 9/100\n",
            "16/16 [==============================] - 0s 6ms/step - loss: 0.6269 - accuracy: 0.8590 - val_loss: 0.6191 - val_accuracy: 0.8600\n",
            "Epoch 10/100\n",
            "16/16 [==============================] - 0s 7ms/step - loss: 0.5465 - accuracy: 0.8660 - val_loss: 0.5439 - val_accuracy: 0.8750\n",
            "Epoch 11/100\n",
            "16/16 [==============================] - 0s 6ms/step - loss: 0.4894 - accuracy: 0.8750 - val_loss: 0.4929 - val_accuracy: 0.8850\n",
            "Epoch 12/100\n",
            "16/16 [==============================] - 0s 4ms/step - loss: 0.4470 - accuracy: 0.8800 - val_loss: 0.4549 - val_accuracy: 0.8750\n",
            "Epoch 13/100\n",
            "16/16 [==============================] - 0s 4ms/step - loss: 0.4096 - accuracy: 0.8840 - val_loss: 0.4225 - val_accuracy: 0.8950\n",
            "Epoch 14/100\n",
            "16/16 [==============================] - 0s 5ms/step - loss: 0.3801 - accuracy: 0.8880 - val_loss: 0.3986 - val_accuracy: 0.8950\n",
            "Epoch 15/100\n",
            "16/16 [==============================] - 0s 4ms/step - loss: 0.3593 - accuracy: 0.8910 - val_loss: 0.3793 - val_accuracy: 0.9000\n",
            "Epoch 16/100\n",
            "16/16 [==============================] - 0s 4ms/step - loss: 0.3401 - accuracy: 0.9000 - val_loss: 0.3630 - val_accuracy: 0.9050\n",
            "Epoch 17/100\n",
            "16/16 [==============================] - 0s 5ms/step - loss: 0.3232 - accuracy: 0.9000 - val_loss: 0.3533 - val_accuracy: 0.9100\n",
            "Epoch 18/100\n",
            "16/16 [==============================] - 0s 4ms/step - loss: 0.3115 - accuracy: 0.9040 - val_loss: 0.3396 - val_accuracy: 0.9150\n",
            "Epoch 19/100\n",
            "16/16 [==============================] - 0s 5ms/step - loss: 0.2968 - accuracy: 0.9080 - val_loss: 0.3309 - val_accuracy: 0.9000\n",
            "Epoch 20/100\n",
            "16/16 [==============================] - 0s 5ms/step - loss: 0.2857 - accuracy: 0.9090 - val_loss: 0.3206 - val_accuracy: 0.8950\n",
            "Epoch 21/100\n",
            "16/16 [==============================] - 0s 4ms/step - loss: 0.2739 - accuracy: 0.9180 - val_loss: 0.3110 - val_accuracy: 0.9100\n",
            "Epoch 22/100\n",
            "16/16 [==============================] - 0s 5ms/step - loss: 0.2664 - accuracy: 0.9130 - val_loss: 0.3009 - val_accuracy: 0.9100\n",
            "Epoch 23/100\n",
            "16/16 [==============================] - 0s 4ms/step - loss: 0.2615 - accuracy: 0.9140 - val_loss: 0.2998 - val_accuracy: 0.9100\n",
            "Epoch 24/100\n",
            "16/16 [==============================] - 0s 4ms/step - loss: 0.2492 - accuracy: 0.9220 - val_loss: 0.2939 - val_accuracy: 0.9050\n",
            "Epoch 25/100\n",
            "16/16 [==============================] - 0s 5ms/step - loss: 0.2429 - accuracy: 0.9250 - val_loss: 0.2855 - val_accuracy: 0.9100\n",
            "Epoch 26/100\n",
            "16/16 [==============================] - 0s 5ms/step - loss: 0.2367 - accuracy: 0.9230 - val_loss: 0.2829 - val_accuracy: 0.9150\n",
            "Epoch 27/100\n",
            "16/16 [==============================] - 0s 4ms/step - loss: 0.2307 - accuracy: 0.9300 - val_loss: 0.2813 - val_accuracy: 0.9100\n",
            "Epoch 28/100\n",
            "16/16 [==============================] - 0s 5ms/step - loss: 0.2214 - accuracy: 0.9320 - val_loss: 0.2728 - val_accuracy: 0.9150\n",
            "Epoch 29/100\n",
            "16/16 [==============================] - 0s 4ms/step - loss: 0.2195 - accuracy: 0.9290 - val_loss: 0.2744 - val_accuracy: 0.9200\n",
            "Epoch 30/100\n",
            "16/16 [==============================] - 0s 5ms/step - loss: 0.2131 - accuracy: 0.9360 - val_loss: 0.2703 - val_accuracy: 0.9250\n",
            "Epoch 31/100\n",
            "16/16 [==============================] - 0s 4ms/step - loss: 0.2042 - accuracy: 0.9390 - val_loss: 0.2651 - val_accuracy: 0.9300\n",
            "Epoch 32/100\n",
            "16/16 [==============================] - 0s 6ms/step - loss: 0.1999 - accuracy: 0.9360 - val_loss: 0.2640 - val_accuracy: 0.9250\n",
            "Epoch 33/100\n",
            "16/16 [==============================] - 0s 5ms/step - loss: 0.1980 - accuracy: 0.9330 - val_loss: 0.2579 - val_accuracy: 0.9350\n",
            "Epoch 34/100\n",
            "16/16 [==============================] - 0s 4ms/step - loss: 0.1931 - accuracy: 0.9440 - val_loss: 0.2606 - val_accuracy: 0.9300\n",
            "Epoch 35/100\n",
            "16/16 [==============================] - 0s 4ms/step - loss: 0.1899 - accuracy: 0.9390 - val_loss: 0.2579 - val_accuracy: 0.9300\n",
            "Epoch 36/100\n",
            "16/16 [==============================] - 0s 5ms/step - loss: 0.1859 - accuracy: 0.9440 - val_loss: 0.2533 - val_accuracy: 0.9250\n",
            "Epoch 37/100\n",
            "16/16 [==============================] - 0s 4ms/step - loss: 0.1794 - accuracy: 0.9430 - val_loss: 0.2551 - val_accuracy: 0.9300\n",
            "Epoch 38/100\n",
            "16/16 [==============================] - 0s 5ms/step - loss: 0.1752 - accuracy: 0.9500 - val_loss: 0.2541 - val_accuracy: 0.9250\n",
            "Epoch 39/100\n",
            "16/16 [==============================] - 0s 5ms/step - loss: 0.1728 - accuracy: 0.9500 - val_loss: 0.2526 - val_accuracy: 0.9350\n",
            "Epoch 40/100\n",
            "16/16 [==============================] - 0s 4ms/step - loss: 0.1702 - accuracy: 0.9510 - val_loss: 0.2500 - val_accuracy: 0.9300\n",
            "Epoch 41/100\n",
            "16/16 [==============================] - 0s 5ms/step - loss: 0.1657 - accuracy: 0.9530 - val_loss: 0.2473 - val_accuracy: 0.9250\n",
            "Epoch 42/100\n",
            "16/16 [==============================] - 0s 5ms/step - loss: 0.1624 - accuracy: 0.9600 - val_loss: 0.2441 - val_accuracy: 0.9300\n",
            "Epoch 43/100\n",
            "16/16 [==============================] - 0s 5ms/step - loss: 0.1590 - accuracy: 0.9530 - val_loss: 0.2472 - val_accuracy: 0.9300\n",
            "Epoch 44/100\n",
            "16/16 [==============================] - 0s 5ms/step - loss: 0.1564 - accuracy: 0.9570 - val_loss: 0.2433 - val_accuracy: 0.9300\n",
            "Epoch 45/100\n",
            "16/16 [==============================] - 0s 5ms/step - loss: 0.1539 - accuracy: 0.9540 - val_loss: 0.2443 - val_accuracy: 0.9250\n",
            "Epoch 46/100\n",
            "16/16 [==============================] - 0s 4ms/step - loss: 0.1499 - accuracy: 0.9600 - val_loss: 0.2453 - val_accuracy: 0.9300\n",
            "Epoch 47/100\n",
            "16/16 [==============================] - 0s 4ms/step - loss: 0.1467 - accuracy: 0.9620 - val_loss: 0.2411 - val_accuracy: 0.9300\n",
            "Epoch 48/100\n",
            "16/16 [==============================] - 0s 5ms/step - loss: 0.1446 - accuracy: 0.9570 - val_loss: 0.2394 - val_accuracy: 0.9350\n",
            "Epoch 49/100\n",
            "16/16 [==============================] - 0s 5ms/step - loss: 0.1427 - accuracy: 0.9630 - val_loss: 0.2417 - val_accuracy: 0.9350\n",
            "Epoch 50/100\n",
            "16/16 [==============================] - 0s 4ms/step - loss: 0.1410 - accuracy: 0.9620 - val_loss: 0.2367 - val_accuracy: 0.9350\n",
            "Epoch 51/100\n",
            "16/16 [==============================] - 0s 4ms/step - loss: 0.1373 - accuracy: 0.9650 - val_loss: 0.2435 - val_accuracy: 0.9300\n",
            "Epoch 52/100\n",
            "16/16 [==============================] - 0s 5ms/step - loss: 0.1357 - accuracy: 0.9630 - val_loss: 0.2402 - val_accuracy: 0.9350\n",
            "Epoch 53/100\n",
            "16/16 [==============================] - 0s 4ms/step - loss: 0.1319 - accuracy: 0.9630 - val_loss: 0.2411 - val_accuracy: 0.9300\n",
            "Epoch 54/100\n",
            "16/16 [==============================] - 0s 5ms/step - loss: 0.1280 - accuracy: 0.9690 - val_loss: 0.2375 - val_accuracy: 0.9400\n",
            "Epoch 55/100\n",
            "16/16 [==============================] - 0s 4ms/step - loss: 0.1270 - accuracy: 0.9680 - val_loss: 0.2393 - val_accuracy: 0.9300\n",
            "Epoch 56/100\n",
            "16/16 [==============================] - 0s 5ms/step - loss: 0.1251 - accuracy: 0.9670 - val_loss: 0.2375 - val_accuracy: 0.9400\n",
            "Epoch 57/100\n",
            "16/16 [==============================] - 0s 5ms/step - loss: 0.1250 - accuracy: 0.9660 - val_loss: 0.2405 - val_accuracy: 0.9350\n",
            "Epoch 58/100\n",
            "16/16 [==============================] - 0s 4ms/step - loss: 0.1222 - accuracy: 0.9690 - val_loss: 0.2425 - val_accuracy: 0.9400\n",
            "Epoch 59/100\n",
            "16/16 [==============================] - 0s 5ms/step - loss: 0.1182 - accuracy: 0.9650 - val_loss: 0.2376 - val_accuracy: 0.9350\n",
            "Epoch 60/100\n",
            "16/16 [==============================] - 0s 5ms/step - loss: 0.1161 - accuracy: 0.9710 - val_loss: 0.2411 - val_accuracy: 0.9350\n",
            "Epoch 61/100\n",
            "16/16 [==============================] - 0s 4ms/step - loss: 0.1157 - accuracy: 0.9660 - val_loss: 0.2429 - val_accuracy: 0.9300\n",
            "Epoch 62/100\n",
            "16/16 [==============================] - 0s 5ms/step - loss: 0.1135 - accuracy: 0.9720 - val_loss: 0.2342 - val_accuracy: 0.9400\n",
            "Epoch 63/100\n",
            "16/16 [==============================] - 0s 5ms/step - loss: 0.1112 - accuracy: 0.9710 - val_loss: 0.2424 - val_accuracy: 0.9300\n",
            "Epoch 64/100\n",
            "16/16 [==============================] - 0s 4ms/step - loss: 0.1102 - accuracy: 0.9700 - val_loss: 0.2418 - val_accuracy: 0.9350\n",
            "Epoch 65/100\n",
            "16/16 [==============================] - 0s 5ms/step - loss: 0.1113 - accuracy: 0.9730 - val_loss: 0.2406 - val_accuracy: 0.9350\n",
            "Epoch 66/100\n",
            "16/16 [==============================] - 0s 4ms/step - loss: 0.1043 - accuracy: 0.9750 - val_loss: 0.2375 - val_accuracy: 0.9400\n",
            "Epoch 67/100\n",
            "16/16 [==============================] - 0s 4ms/step - loss: 0.1031 - accuracy: 0.9750 - val_loss: 0.2402 - val_accuracy: 0.9350\n",
            "Epoch 68/100\n",
            "16/16 [==============================] - 0s 4ms/step - loss: 0.1034 - accuracy: 0.9740 - val_loss: 0.2408 - val_accuracy: 0.9400\n",
            "Epoch 69/100\n",
            "16/16 [==============================] - 0s 5ms/step - loss: 0.0996 - accuracy: 0.9750 - val_loss: 0.2372 - val_accuracy: 0.9350\n",
            "Epoch 70/100\n",
            "16/16 [==============================] - 0s 4ms/step - loss: 0.0980 - accuracy: 0.9780 - val_loss: 0.2415 - val_accuracy: 0.9350\n",
            "Epoch 71/100\n",
            "16/16 [==============================] - 0s 5ms/step - loss: 0.0979 - accuracy: 0.9760 - val_loss: 0.2356 - val_accuracy: 0.9300\n",
            "Epoch 72/100\n",
            "16/16 [==============================] - 0s 4ms/step - loss: 0.0964 - accuracy: 0.9730 - val_loss: 0.2440 - val_accuracy: 0.9400\n",
            "Epoch 73/100\n",
            "16/16 [==============================] - 0s 4ms/step - loss: 0.0963 - accuracy: 0.9760 - val_loss: 0.2424 - val_accuracy: 0.9400\n",
            "Epoch 74/100\n",
            "16/16 [==============================] - 0s 5ms/step - loss: 0.0949 - accuracy: 0.9730 - val_loss: 0.2412 - val_accuracy: 0.9350\n",
            "Epoch 75/100\n",
            "16/16 [==============================] - 0s 5ms/step - loss: 0.0911 - accuracy: 0.9790 - val_loss: 0.2410 - val_accuracy: 0.9350\n",
            "Epoch 76/100\n",
            "16/16 [==============================] - 0s 4ms/step - loss: 0.0879 - accuracy: 0.9810 - val_loss: 0.2407 - val_accuracy: 0.9350\n",
            "Epoch 77/100\n",
            "16/16 [==============================] - 0s 5ms/step - loss: 0.0882 - accuracy: 0.9780 - val_loss: 0.2371 - val_accuracy: 0.9350\n",
            "Epoch 78/100\n",
            "16/16 [==============================] - 0s 5ms/step - loss: 0.0868 - accuracy: 0.9800 - val_loss: 0.2422 - val_accuracy: 0.9300\n",
            "Epoch 79/100\n",
            "16/16 [==============================] - 0s 5ms/step - loss: 0.0839 - accuracy: 0.9820 - val_loss: 0.2404 - val_accuracy: 0.9350\n",
            "Epoch 80/100\n",
            "16/16 [==============================] - 0s 5ms/step - loss: 0.0829 - accuracy: 0.9800 - val_loss: 0.2388 - val_accuracy: 0.9300\n",
            "Epoch 81/100\n",
            "16/16 [==============================] - 0s 5ms/step - loss: 0.0830 - accuracy: 0.9840 - val_loss: 0.2406 - val_accuracy: 0.9350\n",
            "Epoch 82/100\n",
            "16/16 [==============================] - 0s 5ms/step - loss: 0.0804 - accuracy: 0.9810 - val_loss: 0.2400 - val_accuracy: 0.9450\n",
            "Epoch 83/100\n",
            "16/16 [==============================] - 0s 5ms/step - loss: 0.0780 - accuracy: 0.9810 - val_loss: 0.2435 - val_accuracy: 0.9350\n",
            "Epoch 84/100\n",
            "16/16 [==============================] - 0s 4ms/step - loss: 0.0793 - accuracy: 0.9800 - val_loss: 0.2393 - val_accuracy: 0.9300\n",
            "Epoch 85/100\n",
            "16/16 [==============================] - 0s 5ms/step - loss: 0.0765 - accuracy: 0.9830 - val_loss: 0.2425 - val_accuracy: 0.9350\n",
            "Epoch 86/100\n",
            "16/16 [==============================] - 0s 4ms/step - loss: 0.0747 - accuracy: 0.9870 - val_loss: 0.2379 - val_accuracy: 0.9300\n",
            "Epoch 87/100\n",
            "16/16 [==============================] - 0s 5ms/step - loss: 0.0737 - accuracy: 0.9840 - val_loss: 0.2445 - val_accuracy: 0.9300\n",
            "Epoch 88/100\n",
            "16/16 [==============================] - 0s 5ms/step - loss: 0.0718 - accuracy: 0.9860 - val_loss: 0.2421 - val_accuracy: 0.9250\n",
            "Epoch 89/100\n",
            "16/16 [==============================] - 0s 4ms/step - loss: 0.0726 - accuracy: 0.9840 - val_loss: 0.2502 - val_accuracy: 0.9400\n",
            "Epoch 90/100\n",
            "16/16 [==============================] - 0s 4ms/step - loss: 0.0721 - accuracy: 0.9800 - val_loss: 0.2424 - val_accuracy: 0.9400\n",
            "Epoch 91/100\n",
            "16/16 [==============================] - 0s 4ms/step - loss: 0.0670 - accuracy: 0.9860 - val_loss: 0.2435 - val_accuracy: 0.9300\n",
            "Epoch 92/100\n",
            "16/16 [==============================] - 0s 5ms/step - loss: 0.0672 - accuracy: 0.9870 - val_loss: 0.2478 - val_accuracy: 0.9350\n",
            "Epoch 93/100\n",
            "16/16 [==============================] - 0s 4ms/step - loss: 0.0671 - accuracy: 0.9860 - val_loss: 0.2438 - val_accuracy: 0.9300\n",
            "Epoch 94/100\n",
            "16/16 [==============================] - 0s 4ms/step - loss: 0.0665 - accuracy: 0.9850 - val_loss: 0.2438 - val_accuracy: 0.9300\n",
            "Epoch 95/100\n",
            "16/16 [==============================] - 0s 4ms/step - loss: 0.0654 - accuracy: 0.9850 - val_loss: 0.2472 - val_accuracy: 0.9400\n",
            "Epoch 96/100\n",
            "16/16 [==============================] - 0s 4ms/step - loss: 0.0639 - accuracy: 0.9870 - val_loss: 0.2486 - val_accuracy: 0.9300\n",
            "Epoch 97/100\n",
            "16/16 [==============================] - 0s 5ms/step - loss: 0.0622 - accuracy: 0.9870 - val_loss: 0.2478 - val_accuracy: 0.9300\n",
            "Epoch 98/100\n",
            "16/16 [==============================] - 0s 4ms/step - loss: 0.0611 - accuracy: 0.9880 - val_loss: 0.2445 - val_accuracy: 0.9250\n",
            "Epoch 99/100\n",
            "16/16 [==============================] - 0s 5ms/step - loss: 0.0619 - accuracy: 0.9860 - val_loss: 0.2497 - val_accuracy: 0.9350\n",
            "Epoch 100/100\n",
            "16/16 [==============================] - 0s 5ms/step - loss: 0.0594 - accuracy: 0.9880 - val_loss: 0.2476 - val_accuracy: 0.9250\n"
          ]
        }
      ],
      "source": [
        "MLP_model = model.fit(x_train, y_train,\n",
        "          epochs=100,\n",
        "          batch_size=64, validation_data=(x_test, y_test))"
      ]
    },
    {
      "cell_type": "code",
      "execution_count": 13,
      "metadata": {
        "colab": {
          "base_uri": "https://localhost:8080/",
          "height": 447
        },
        "id": "SveCNiLkisTF",
        "outputId": "d432b21c-8eb9-4f87-8432-dedc76899d46"
      },
      "outputs": [
        {
          "output_type": "execute_result",
          "data": {
            "text/plain": [
              "[<matplotlib.lines.Line2D at 0x7b523df5a650>]"
            ]
          },
          "metadata": {},
          "execution_count": 13
        },
        {
          "output_type": "display_data",
          "data": {
            "text/plain": [
              "<Figure size 640x480 with 1 Axes>"
            ],
            "image/png": "[encoded data removed]"
          },
          "metadata": {}
        }
      ],
      "source": [
        "# plot Loss\n",
        "plt.plot(MLP_model.history[\"loss\"])\n",
        "plt.plot(MLP_model.history[\"val_loss\"])"
      ]
    },
    {
      "cell_type": "code",
      "execution_count": 14,
      "metadata": {
        "colab": {
          "base_uri": "https://localhost:8080/",
          "height": 447
        },
        "id": "Cx3VubunisVh",
        "outputId": "677f3ddf-c700-4cea-f1c7-0666a39154d0"
      },
      "outputs": [
        {
          "output_type": "execute_result",
          "data": {
            "text/plain": [
              "[<matplotlib.lines.Line2D at 0x7b523e238af0>]"
            ]
          },
          "metadata": {},
          "execution_count": 14
        },
        {
          "output_type": "display_data",
          "data": {
            "text/plain": [
              "<Figure size 640x480 with 1 Axes>"
            ],
            "image/png": "[encoded data removed]"
          },
          "metadata": {}
        }
      ],
      "source": [
        "# plot accuracy\n",
        "plt.plot(MLP_model.history[\"accuracy\"])\n",
        "plt.plot(MLP_model.history[\"val_accuracy\"])"
      ]
    },
    {
      "cell_type": "code",
      "source": [],
      "metadata": {
        "id": "UwUMg6z0JSOX"
      },
      "execution_count": null,
      "outputs": []
    }
  ],
  "metadata": {
    "colab": {
      "provenance": []
    },
    "kernelspec": {
      "display_name": "Python 3",
      "name": "python3"
    },
    "language_info": {
      "name": "python"
    }
  },
  "nbformat": 4,
  "nbformat_minor": 0
}