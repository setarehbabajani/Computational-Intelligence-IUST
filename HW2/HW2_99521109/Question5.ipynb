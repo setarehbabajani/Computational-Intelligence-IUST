{
  "nbformat": 4,
  "nbformat_minor": 0,
  "metadata": {
    "colab": {
      "provenance": []
    },
    "kernelspec": {
      "name": "python3",
      "display_name": "Python 3"
    },
    "language_info": {
      "name": "python"
    }
  },
  "cells": [
    {
      "cell_type": "markdown",
      "source": [
        "# Import the libraries:"
      ],
      "metadata": {
        "id": "BUuMH0cVdd9v"
      }
    },
    {
      "cell_type": "code",
      "source": [
        "import numpy as np"
      ],
      "metadata": {
        "id": "OIcaklNldgaE"
      },
      "execution_count": 1,
      "outputs": []
    },
    {
      "cell_type": "markdown",
      "source": [
        "# The XNOR function's input and target data"
      ],
      "metadata": {
        "id": "xIsq6T0Fdk17"
      }
    },
    {
      "cell_type": "code",
      "source": [
        "X = np.array([[0, 0], [0, 1], [1, 0], [1, 1]])\n",
        "Y = np.array([1, 0, 0, 1])"
      ],
      "metadata": {
        "id": "nnLTatLXdmGR"
      },
      "execution_count": 2,
      "outputs": []
    },
    {
      "cell_type": "markdown",
      "source": [
        "# The neural network architecture"
      ],
      "metadata": {
        "id": "snJPm4IJdqIw"
      }
    },
    {
      "cell_type": "code",
      "source": [
        "input_size = 2\n",
        "hidden_size = 4\n",
        "output_size = 1\n",
        "\n",
        "learning_rate = 0.1\n",
        "epochs = 10000"
      ],
      "metadata": {
        "id": "_bgJmZ-Hdyj8"
      },
      "execution_count": 4,
      "outputs": []
    },
    {
      "cell_type": "markdown",
      "source": [
        "# Initialize the weights and biases for each layer"
      ],
      "metadata": {
        "id": "SJ5Yqemrd4g4"
      }
    },
    {
      "cell_type": "code",
      "source": [
        "input_layer_weights = np.random.uniform(size=(input_size, hidden_size))\n",
        "input_layer_bias = np.random.uniform(size=(1, hidden_size))\n",
        "\n",
        "hidden_layer_weights = np.random.uniform(size=(hidden_size, output_size))\n",
        "hidden_layer_bias = np.random.uniform(size=(1, output_size))"
      ],
      "metadata": {
        "id": "zXNPYGOLeOlL"
      },
      "execution_count": 5,
      "outputs": []
    },
    {
      "cell_type": "markdown",
      "source": [
        "# The activation function and its derivative"
      ],
      "metadata": {
        "id": "xI2od6zRd6nA"
      }
    },
    {
      "cell_type": "code",
      "source": [
        "def sigmoid(x):\n",
        "    return 1 / (1 + np.exp(-x))\n",
        "\n",
        "def sigmoid_derivative(x):\n",
        "    return x * (1 - x)"
      ],
      "metadata": {
        "id": "ZoPbiTyheUxA"
      },
      "execution_count": 6,
      "outputs": []
    },
    {
      "cell_type": "markdown",
      "source": [
        "# Train the neural network"
      ],
      "metadata": {
        "id": "AJ-rnqmReEx0"
      }
    },
    {
      "cell_type": "code",
      "source": [
        "for epoch in range(epochs):\n",
        "    # Forward propagation\n",
        "    input_layer_output = sigmoid(np.dot(X, input_layer_weights) + input_layer_bias)\n",
        "    output_layer_output = sigmoid(np.dot(input_layer_output, hidden_layer_weights) + hidden_layer_bias)\n",
        "    error = Y.reshape(-1, 1) - output_layer_output\n",
        "\n",
        "    # Backpropagation\n",
        "    d_output = error * sigmoid_derivative(output_layer_output)\n",
        "    error_hidden_layer = d_output.dot(hidden_layer_weights.T)\n",
        "    d_hidden_layer = error_hidden_layer * sigmoid_derivative(input_layer_output)\n",
        "\n",
        "    # Updating the weights and biases\n",
        "    hidden_layer_weights += input_layer_output.T.dot(d_output) * learning_rate\n",
        "    hidden_layer_bias += np.sum(d_output, axis=0, keepdims=True) * learning_rate\n",
        "    input_layer_weights += X.T.dot(d_hidden_layer) * learning_rate\n",
        "    input_layer_bias += np.sum(d_hidden_layer, axis=0, keepdims=True) * learning_rate\n",
        "\n",
        "# testing the neural network on XNOR inputs\n",
        "predictions = (output_layer_output > 0.5).astype(int)\n",
        "print(\"Predictions:\", predictions)"
      ],
      "metadata": {
        "colab": {
          "base_uri": "https://localhost:8080/"
        },
        "id": "puWeZqgYeYXL",
        "outputId": "18406a29-982e-4519-d9eb-68c5d7e41b78"
      },
      "execution_count": 7,
      "outputs": [
        {
          "output_type": "stream",
          "name": "stdout",
          "text": [
            "Predictions: [[1]\n",
            " [0]\n",
            " [0]\n",
            " [1]]\n"
          ]
        }
      ]
    },
    {
      "cell_type": "code",
      "source": [],
      "metadata": {
        "id": "0csPKtL_ekMU"
      },
      "execution_count": null,
      "outputs": []
    }
  ]
}